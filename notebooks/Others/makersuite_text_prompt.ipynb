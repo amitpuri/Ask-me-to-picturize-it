{
  "cells": [
    {
      "cell_type": "markdown",
      "metadata": {
        "id": "view-in-github",
        "colab_type": "text"
      },
      "source": [
        "<a href=\"https://colab.research.google.com/github/amitpuri/Ask-picturize-it/blob/main/notebooks/makersuite_text_prompt.ipynb\" target=\"_parent\"><img src=\"https://colab.research.google.com/assets/colab-badge.svg\" alt=\"Open In Colab\"/></a>"
      ]
    },
    {
      "cell_type": "markdown",
      "metadata": {
        "id": "Tce3stUlHN0L"
      },
      "source": [
        "##### Copyright 2023 Google LLC"
      ]
    },
    {
      "cell_type": "code",
      "execution_count": null,
      "metadata": {
        "cellView": "form",
        "id": "tuOe1ymfHZPu"
      },
      "outputs": [],
      "source": [
        "#@title Licensed under the Apache License, Version 2.0 (the \"License\");\n",
        "# you may not use this file except in compliance with the License.\n",
        "# You may obtain a copy of the License at\n",
        "#\n",
        "# https://www.apache.org/licenses/LICENSE-2.0\n",
        "#\n",
        "# Unless required by applicable law or agreed to in writing, software\n",
        "# distributed under the License is distributed on an \"AS IS\" BASIS,\n",
        "# WITHOUT WARRANTIES OR CONDITIONS OF ANY KIND, either express or implied.\n",
        "# See the License for the specific language governing permissions and\n",
        "# limitations under the License."
      ]
    },
    {
      "cell_type": "code",
      "execution_count": null,
      "metadata": {
        "id": "kWIuwKG2_oWE"
      },
      "outputs": [],
      "source": [
        "# Install the client library and import necessary modules.\n",
        "!pip install google-generativeai\n",
        "import google.generativeai as palm\n",
        "import base64\n",
        "import json"
      ]
    },
    {
      "cell_type": "code",
      "execution_count": null,
      "metadata": {
        "id": "_SvYoR3WCeKr"
      },
      "outputs": [],
      "source": [
        "# Configure the client library by providing your API key.\n",
        "palm.configure(api_key=\"YOUR API KEY\")"
      ]
    },
    {
      "cell_type": "code",
      "execution_count": null,
      "metadata": {
        "id": "Pwab0i0RAHBN"
      },
      "outputs": [],
      "source": [
        "# These parameters for the model call can be set by URL parameters.\n",
        "model = 'models/text-bison-001' # @param {isTemplate: true}\n",
        "temperature = 0.6 # @param {isTemplate: true}\n",
        "candidate_count = 1 # @param {isTemplate: true}\n",
        "top_k = 40 # @param {isTemplate: true}\n",
        "top_p = 0.95 # @param {isTemplate: true}\n",
        "max_output_tokens = 1024 # @param {isTemplate: true}\n",
        "text_b64 = 'U3VtbWFyaXplIHRoaXMgcGFyYWdyYXBoIGFuZCBkZXRhaWwgc29tZSByZWxldmFudCBjb250ZXh0LgoKVGV4dDogIkkgYW0gYnkgYmlydGggYSBHZW5ldmVzZSwgYW5kIG15IGZhbWlseSBpcyBvbmUgb2YgdGhlIG1vc3QgZGlzdGluZ3Vpc2hlZCBvZiB0aGF0IHJlcHVibGljLiBNeSBhbmNlc3RvcnMgaGFkIGJlZW4gZm9yIG1hbnkgeWVhcnMgY291bnNlbGxvcnMgYW5kIHN5bmRpY3MsIGFuZCBteSBmYXRoZXIgaGFkIGZpbGxlZCBzZXZlcmFsIHB1YmxpYyBzaXR1YXRpb25zIHdpdGggaG9ub3VyIGFuZCByZXB1dGF0aW9uLiBIZSB3YXMgcmVzcGVjdGVkIGJ5IGFsbCB3aG8ga25ldyBoaW0gZm9yIGhpcyBpbnRlZ3JpdHkgYW5kIGluZGVmYXRpZ2FibGUgYXR0ZW50aW9uIHRvIHB1YmxpYyBidXNpbmVzcy4gSGUgcGFzc2VkIGhpcyB5b3VuZ2VyIGRheXMgcGVycGV0dWFsbHkgb2NjdXBpZWQgYnkgdGhlIGFmZmFpcnMgb2YgaGlzIGNvdW50cnk7IGEgdmFyaWV0eSBvZiBjaXJjdW1zdGFuY2VzIGhhZCBwcmV2ZW50ZWQgaGlzIG1hcnJ5aW5nIGVhcmx5LCBub3Igd2FzIGl0IHVudGlsIHRoZSBkZWNsaW5lIG9mIGxpZmUgdGhhdCBoZSBiZWNhbWUgYSBodXNiYW5kIGFuZCB0aGUgZmF0aGVyIG9mIGEgZmFtaWx5LiIKClN1bW1hcnk6IEluIHRoaXMgdGV4dCwgdGhlIG5hcnJhdG9yIGlzIGRlc2NyaWJpbmcgaGlzIGJhY2tncm91bmQgYW5kIHVwYnJpbmdpbmcuIEhlIHRlbGxzIHVzIHRoYXQgaGUgaXMgYSBuYXRpdmUgb2YgR2VuZXZhLCBTd2l0emVybGFuZCwgYW5kIHRoYXQgaGlzIGZhbWlseSBpcyBvbmUgb2YgdGhlIG1vc3QgZGlzdGluZ3Vpc2hlZCBpbiB0aGUgcmVwdWJsaWMuIEhlIHRoZW4gZ29lcyBvbiB0byBkZXNjcmliZSBoaXMgZmF0aGVyLCB3aG8gd2FzIGEgcmVzcGVjdGVkIHB1YmxpYyBzZXJ2YW50LgoKVGV4dDogIlRoZSB0aGluZyB0aGUgVGltZSBUcmF2ZWxsZXIgaGVsZCBpbiBoaXMgaGFuZCB3YXMgYSBnbGl0dGVyaW5nIG1ldGFsbGljIGZyYW1ld29yaywgc2NhcmNlbHkgbGFyZ2VyIHRoYW4gYSBzbWFsbCBjbG9jaywgYW5kIHZlcnkgZGVsaWNhdGVseSBtYWRlLiBUaGVyZSB3YXMgaXZvcnkgaW4gaXQsIGFuZCBzb21lIHRyYW5zcGFyZW50IGNyeXN0YWxsaW5lIHN1YnN0YW5jZS4gQW5kIG5vdyBJIG11c3QgYmUgZXhwbGljaXQsIGZvciB0aGlzIHRoYXQgZm9sbG93c+KAlHVubGVzcyBoaXMgZXhwbGFuYXRpb24gaXMgdG8gYmUgYWNjZXB0ZWTigJRpcyBhbiBhYnNvbHV0ZWx5IHVuYWNjb3VudGFibGUgdGhpbmcuIEhlIHRvb2sgb25lIG9mIHRoZSBzbWFsbCBvY3RhZ29uYWwgdGFibGVzIHRoYXQgd2VyZSBzY2F0dGVyZWQgYWJvdXQgdGhlIHJvb20sIGFuZCBzZXQgaXQgaW4gZnJvbnQgb2YgdGhlIGZpcmUsIHdpdGggdHdvIGxlZ3Mgb24gdGhlIGhlYXJ0aHJ1Zy4iCgpTdW1tYXJ5Og==' # @param {isTemplate: true}\n",
        "stop_sequences_b64 = 'W10=' # @param {isTemplate: true}\n",
        "safety_settings_b64 = 'W3siY2F0ZWdvcnkiOiJIQVJNX0NBVEVHT1JZX0RFUk9HQVRPUlkiLCJ0aHJlc2hvbGQiOjF9LHsiY2F0ZWdvcnkiOiJIQVJNX0NBVEVHT1JZX1RPWElDSVRZIiwidGhyZXNob2xkIjoxfSx7ImNhdGVnb3J5IjoiSEFSTV9DQVRFR09SWV9WSU9MRU5DRSIsInRocmVzaG9sZCI6Mn0seyJjYXRlZ29yeSI6IkhBUk1fQ0FURUdPUllfU0VYVUFMIiwidGhyZXNob2xkIjoyfSx7ImNhdGVnb3J5IjoiSEFSTV9DQVRFR09SWV9NRURJQ0FMIiwidGhyZXNob2xkIjoyfSx7ImNhdGVnb3J5IjoiSEFSTV9DQVRFR09SWV9EQU5HRVJPVVMiLCJ0aHJlc2hvbGQiOjJ9XQ==' # @param {isTemplate: true}\n",
        "\n",
        "# Convert the prompt text param from a bae64 string to a string.\n",
        "text = base64.b64decode(text_b64).decode(\"utf-8\")\n",
        "\n",
        "# Convert the stop_sequences and safety_settings params from base64 strings to lists.\n",
        "stop_sequences = json.loads(base64.b64decode(stop_sequences_b64).decode(\"utf-8\"))\n",
        "safety_settings = json.loads(base64.b64decode(safety_settings_b64).decode(\"utf-8\"))\n",
        "\n",
        "defaults = {\n",
        "  'model': model,\n",
        "  'temperature': temperature,\n",
        "  'candidate_count': candidate_count,\n",
        "  'top_k': top_k,\n",
        "  'top_p': top_p,\n",
        "  'max_output_tokens': max_output_tokens,\n",
        "  'stop_sequences': stop_sequences,\n",
        "  'safety_settings': safety_settings,\n",
        "}"
      ]
    },
    {
      "cell_type": "code",
      "execution_count": null,
      "metadata": {
        "id": "LB2LxPmAB95V"
      },
      "outputs": [],
      "source": [
        "# Call the model and print the response.\n",
        "response = palm.generate_text(\n",
        "  **defaults,\n",
        "  prompt=text\n",
        ")\n",
        "print(response.result)"
      ]
    }
  ],
  "metadata": {
    "colab": {
      "name": "makersuite_text_prompt.ipynb",
      "toc_visible": true,
      "provenance": [],
      "include_colab_link": true
    },
    "kernelspec": {
      "display_name": "Python 3",
      "name": "python3"
    }
  },
  "nbformat": 4,
  "nbformat_minor": 0
}